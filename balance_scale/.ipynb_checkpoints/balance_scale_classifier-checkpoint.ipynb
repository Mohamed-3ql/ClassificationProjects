{
 "cells": [
  {
   "cell_type": "markdown",
   "metadata": {},
   "source": [
    "### Data Set Information:\n",
    "\n",
    "This data set was generated to model psychological experimental results. Each example is classified as having the balance scale tip to the right, tip to the left, or be balanced. The attributes are the left weight, the left distance, the right weight, and the right distance. The correct way to find the class is the greater of (left-distance * left-weight) and (right-distance * right-weight). If they are equal, it is balanced.\n",
    "\n",
    "\n",
    "Attribute Information:\n",
    "\n",
    "1. Class Name: 3 (L, B, R) \n",
    "2. Left-Weight: 5 (1, 2, 3, 4, 5) \n",
    "3. Left-Distance: 5 (1, 2, 3, 4, 5) \n",
    "4. Right-Weight: 5 (1, 2, 3, 4, 5) \n",
    "5. Right-Distance: 5 (1, 2, 3, 4, 5)"
   ]
  },
  {
   "cell_type": "markdown",
   "metadata": {},
   "source": [
    "1. Title: Balance Scale Weight & Distance Database\n",
    "\n",
    "2. Source Information: \n",
    "    (a) Source: Generated to model psychological experiments reported\n",
    "\t\tby Siegler, R. S. (1976).  Three Aspects of Cognitive\n",
    "\t\tDevelopment.  Cognitive Psychology, 8, 481-520.\n",
    "    (b) Donor: Tim Hume (hume@ics.uci.edu)\n",
    "    (c) Date: 22 April 1994\n",
    "\n",
    "3. Past Usage: (possibly different formats of this data)\n",
    "   - Publications\n",
    "\t1. Klahr, D., & Siegler, R.S. (1978).  The Representation of\n",
    "\t   Children's Knowledge.  In H. W. Reese & L. P. Lipsitt (Eds.),\n",
    "\t   Advances in Child Development and Behavior, pp. 61-116.  New\n",
    "\t   York: Academic Press \n",
    "\t2. Langley,P. (1987).  A General Theory of Discrimination\n",
    "\t   Learning.  In D. Klahr, P. Langley, & R. Neches (Eds.),\n",
    "\t   Production System Models of Learning and Development, pp.\n",
    "\t   99-161. Cambridge, MA: MIT Press\n",
    "\t3. Newell, A. (1990).  Unified Theories of Cognition.\n",
    "\t   Cambridge, MA: Harvard University Press\n",
    "\t4. McClelland, J.L. (1988).  Parallel Distibuted Processing:\n",
    "\t   Implications for Cognition and Development.  Technical\n",
    "\t   Report AIP-47, Department of Psychology, Carnegie-Mellon\n",
    "\t   University \n",
    "\t5. Shultz, T., Mareschal, D., & Schmidt, W. (1994).  Modeling\n",
    "\t   Cognitive Development on Balance Scale Phenomena. Machine\n",
    "\t   Learning, Vol. 16, pp. 59-88.\n",
    "\n",
    "4. Relevant Information: \n",
    "\tThis data set was generated to model psychological\n",
    "\texperimental results.  Each example is classified as having the\n",
    "\tbalance scale tip to the right, tip to the left, or be\n",
    "\tbalanced.  The attributes are the left weight, the left\n",
    "\tdistance, the right weight, and the right distance.  The\n",
    "\tcorrect way to find the class is the greater of \n",
    "\t(left-distance * left-weight) and (right-distance \n",
    "\tright-weight).  If they are equal, it is balanced.\n",
    "\n",
    "5. Number of Instances: 625 (49 balanced, 288 left, 288 right)\n",
    "\n",
    "6. Number of Attributes: 4 (numeric) + class name = 5"
   ]
  },
  {
   "cell_type": "markdown",
   "metadata": {},
   "source": [
    "### import modules."
   ]
  },
  {
   "cell_type": "code",
   "execution_count": 1,
   "metadata": {},
   "outputs": [],
   "source": [
    "\"\"\"\n",
    "@author: mo-akel\n",
    "\"\"\"\n",
    "import pandas as pd\n",
    "import matplotlib.pyplot as plt\n",
    "%matplotlib inline"
   ]
  },
  {
   "cell_type": "markdown",
   "metadata": {},
   "source": [
    "### loading data."
   ]
  },
  {
   "cell_type": "code",
   "execution_count": 2,
   "metadata": {},
   "outputs": [
    {
     "data": {
      "text/html": [
       "<div>\n",
       "<style scoped>\n",
       "    .dataframe tbody tr th:only-of-type {\n",
       "        vertical-align: middle;\n",
       "    }\n",
       "\n",
       "    .dataframe tbody tr th {\n",
       "        vertical-align: top;\n",
       "    }\n",
       "\n",
       "    .dataframe thead th {\n",
       "        text-align: right;\n",
       "    }\n",
       "</style>\n",
       "<table border=\"1\" class=\"dataframe\">\n",
       "  <thead>\n",
       "    <tr style=\"text-align: right;\">\n",
       "      <th></th>\n",
       "      <th>class</th>\n",
       "      <th>left_weight</th>\n",
       "      <th>left_distance</th>\n",
       "      <th>right_weight</th>\n",
       "      <th>right_distance</th>\n",
       "    </tr>\n",
       "  </thead>\n",
       "  <tbody>\n",
       "    <tr>\n",
       "      <th>0</th>\n",
       "      <td>B</td>\n",
       "      <td>1</td>\n",
       "      <td>1</td>\n",
       "      <td>1</td>\n",
       "      <td>1</td>\n",
       "    </tr>\n",
       "    <tr>\n",
       "      <th>1</th>\n",
       "      <td>R</td>\n",
       "      <td>1</td>\n",
       "      <td>1</td>\n",
       "      <td>1</td>\n",
       "      <td>2</td>\n",
       "    </tr>\n",
       "    <tr>\n",
       "      <th>2</th>\n",
       "      <td>R</td>\n",
       "      <td>1</td>\n",
       "      <td>1</td>\n",
       "      <td>1</td>\n",
       "      <td>3</td>\n",
       "    </tr>\n",
       "    <tr>\n",
       "      <th>3</th>\n",
       "      <td>R</td>\n",
       "      <td>1</td>\n",
       "      <td>1</td>\n",
       "      <td>1</td>\n",
       "      <td>4</td>\n",
       "    </tr>\n",
       "    <tr>\n",
       "      <th>4</th>\n",
       "      <td>R</td>\n",
       "      <td>1</td>\n",
       "      <td>1</td>\n",
       "      <td>1</td>\n",
       "      <td>5</td>\n",
       "    </tr>\n",
       "  </tbody>\n",
       "</table>\n",
       "</div>"
      ],
      "text/plain": [
       "  class  left_weight  left_distance  right_weight  right_distance\n",
       "0     B            1              1             1               1\n",
       "1     R            1              1             1               2\n",
       "2     R            1              1             1               3\n",
       "3     R            1              1             1               4\n",
       "4     R            1              1             1               5"
      ]
     },
     "execution_count": 2,
     "metadata": {},
     "output_type": "execute_result"
    }
   ],
   "source": [
    "# loading data.\n",
    "names = ['class','left_weight','left_distance','right_weight','right_distance']\n",
    "\n",
    "balanc_scale_df = pd.read_csv('balance-scale.data',names=names,low_memory=False)\n",
    "\n",
    "# checking the header.\n",
    "balanc_scale_df.head()"
   ]
  },
  {
   "cell_type": "markdown",
   "metadata": {},
   "source": [
    "printing the dataframe dimensions."
   ]
  },
  {
   "cell_type": "code",
   "execution_count": 3,
   "metadata": {},
   "outputs": [
    {
     "data": {
      "text/plain": [
       "(625, 5)"
      ]
     },
     "execution_count": 3,
     "metadata": {},
     "output_type": "execute_result"
    }
   ],
   "source": [
    "balanc_scale_df.shape"
   ]
  },
  {
   "cell_type": "code",
   "execution_count": 4,
   "metadata": {},
   "outputs": [
    {
     "name": "stdout",
     "output_type": "stream",
     "text": [
      "625\n"
     ]
    }
   ],
   "source": [
    "# printing number of observation in the dataset\n",
    "print(len(balanc_scale_df))"
   ]
  },
  {
   "cell_type": "markdown",
   "metadata": {},
   "source": [
    "printing data frame basic information."
   ]
  },
  {
   "cell_type": "code",
   "execution_count": 6,
   "metadata": {},
   "outputs": [
    {
     "data": {
      "text/plain": [
       "class             object\n",
       "left_weight        int64\n",
       "left_distance      int64\n",
       "right_weight       int64\n",
       "right_distance     int64\n",
       "dtype: object"
      ]
     },
     "execution_count": 6,
     "metadata": {},
     "output_type": "execute_result"
    }
   ],
   "source": [
    "balanc_scale_df.dtypes"
   ]
  },
  {
   "cell_type": "markdown",
   "metadata": {},
   "source": [
    "### Naive Bays Model:\n",
    "there are many types of naive bays:\n",
    "* Gaussian Naive Bays\n",
    "* Multinomial Naive Bays\n",
    "* Bernouli Naive Bays\n",
    "#### there is more than just three but we here will focus on Gaussian Naive Bays."
   ]
  },
  {
   "cell_type": "code",
   "execution_count": null,
   "metadata": {},
   "outputs": [],
   "source": [
    "from sklearn"
   ]
  }
 ],
 "metadata": {
  "kernelspec": {
   "display_name": "Python 3",
   "language": "python",
   "name": "python3"
  },
  "language_info": {
   "codemirror_mode": {
    "name": "ipython",
    "version": 3
   },
   "file_extension": ".py",
   "mimetype": "text/x-python",
   "name": "python",
   "nbconvert_exporter": "python",
   "pygments_lexer": "ipython3",
   "version": "3.8.2"
  }
 },
 "nbformat": 4,
 "nbformat_minor": 2
}
